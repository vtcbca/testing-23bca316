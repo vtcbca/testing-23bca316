{
 "cells": [
  {
   "cell_type": "code",
   "execution_count": null,
   "id": "aa1fe3d8-519e-415f-9633-d87af9ee5070",
   "metadata": {},
   "outputs": [],
   "source": [
    "with open(\"C:\\\\html2\\\\23bca316\\\\python2.txt\",\"w\")as f:\n",
    "    f.write(\"append text\\n\")\n",
    "    f.write(\"python\")\n",
    "    t=open(python.txt)\n",
    "    print(txt,read(f))\n",
    "    "
   ]
  }
 ],
 "metadata": {
  "kernelspec": {
   "display_name": "Python 3 (ipykernel)",
   "language": "python",
   "name": "python3"
  },
  "language_info": {
   "codemirror_mode": {
    "name": "ipython",
    "version": 3
   },
   "file_extension": ".py",
   "mimetype": "text/x-python",
   "name": "python",
   "nbconvert_exporter": "python",
   "pygments_lexer": "ipython3",
   "version": "3.12.4"
  }
 },
 "nbformat": 4,
 "nbformat_minor": 5
}
